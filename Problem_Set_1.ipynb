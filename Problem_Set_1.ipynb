{
  "nbformat": 4,
  "nbformat_minor": 0,
  "metadata": {
    "colab": {
      "provenance": [],
      "authorship_tag": "ABX9TyOrYi6GftQ+UG/wf5xKHUR9",
      "include_colab_link": true
    },
    "kernelspec": {
      "name": "python3",
      "display_name": "Python 3"
    },
    "language_info": {
      "name": "python"
    }
  },
  "cells": [
    {
      "cell_type": "markdown",
      "metadata": {
        "id": "view-in-github",
        "colab_type": "text"
      },
      "source": [
        "<a href=\"https://colab.research.google.com/github/Neeharika-m19/OpenCourseWare_Intro_to_CS_and_Programming_Using_Python/blob/main/Problem_Set_1.ipynb\" target=\"_parent\"><img src=\"https://colab.research.google.com/assets/colab-badge.svg\" alt=\"Open In Colab\"/></a>"
      ]
    },
    {
      "cell_type": "markdown",
      "source": [
        "**Part A: Saving for a House**\n",
        "\n",
        "You have just graduated from MIT and have a job! You move to the Bay Area and decide that you want to start saving for a home. Houses are fairly\n",
        "expensive, so you start saving up for the down payment on your dream home.\n",
        "Your goal is to find the number of months it takes to save up for a down payment. The cost of your down payment is calculated by multiplying the\n",
        "total cost of your dream house by the down payment percentage.\n",
        "User Inputs. Ask the user to enter the following variables and cast them as floats. They must be initialized in the following order at the beginning of\n",
        "your program, before declaring other variables.\n",
        "1. The starting yearly salary ( yearly_salary)\n",
        "2. The portion of salary to be saved ( portion_saved). This variable should be in decimal form (e.g. 0.1 for 10%).\n",
        "3. The cost of your dream home ( cost_of_dream_home)\n",
        "\n",
        "Writing the Program.\n",
        "\n",
        "You will need to determine how many months it will take given the following information:\n",
        "1. yearly_salary, as described above.\n",
        "2. portion_saved, as described above.\n",
        "3. cost_of_dream_home, as described above.\n",
        "4. portion_down_payment, the percentage of the total cost needed for a down payment. Assume portion_down_payment = 0.25 (25%).\n",
        "5. The amount that you have saved thus far is amount_saved, which starts at $0.\n",
        "6. You get an annual rate of return r. In other words, at the end of each month, you receive an additional amount_saved * (r/12) funds for your\n",
        "savings (the 12 is because r is an annual rate). Assume r = 0.05 (5%).\n",
        "7. At the end of each month, your savings increase by (1) a percentage of your monthly salary and (2) the monthly return on your investment. (Note:\n",
        "The investment amount used to calculate the monthly return is the amount you had saved at the start of each month.)\n",
        "**Output.**\n",
        "1. Your program should store the number of months required to save for the down payment using a variable called months.\n",
        "**Testing**\n",
        "\n",
        "*Test Case 1*\n",
        "\n",
        "Enter your yearly salary: 112000\n",
        "\n",
        "Enter the percent of your salary to save, as a decimal: .17\n",
        "\n",
        "Enter the cost of your dream home: 750000\n",
        "\n",
        "Number of months: 97\n",
        "\n",
        "*Test Case 2*\n",
        "\n",
        "Enter your yearly salary: 65000\n",
        "\n",
        "Enter the percent of your salary to save, as a decimal: .20\n",
        "\n",
        "Enter the cost of your dream home: 400000\n",
        "\n",
        "Number of months: 79\n"
      ],
      "metadata": {
        "id": "hq6G4UqWWhL0"
      }
    },
    {
      "cell_type": "code",
      "source": [
        "yearly_salary=float(input(\"Enter your yearly salary: \"))\n",
        "portion_saved=float(input(\"Enter the percent of your salary to save, as a decimal: \"))\n",
        "cost_of_dream_home=float(input(\"Enter the cost of your dream home: \"))\n",
        "portion_down_payment=0.25\n",
        "amount_saved=0\n",
        "r=0.05 #anual rate of return which every month is an additional amount_saved*(r/12)\n",
        "cost_down_payment=portion_down_payment*cost_of_dream_home\n",
        "months=0\n",
        "monthly_salary=yearly_salary/12\n",
        "while amount_saved<cost_down_payment:\n",
        "    amount_saved+=(amount_saved*(r/12))+(portion_saved*monthly_salary)\n",
        "    months+=1\n",
        "print(\"Number of months: \", months)\n"
      ],
      "metadata": {
        "colab": {
          "base_uri": "https://localhost:8080/"
        },
        "id": "uhN5nYPzWnuD",
        "outputId": "f20eede9-0d30-4ddd-93c9-385357755dfb"
      },
      "execution_count": null,
      "outputs": [
        {
          "output_type": "stream",
          "name": "stdout",
          "text": [
            "Enter your yearly salary: 112000\n",
            "Enter the percent of your salary to save, as a decimal: 0.17\n",
            "Enter the cost of your dream home: 750000\n",
            "Number of months:  97\n"
          ]
        }
      ]
    },
    {
      "cell_type": "markdown",
      "source": [
        "**Part B: Saving with a raise**\n",
        "\n",
        "In Part A, we assumed that your salary did not change over time. However, you are an MIT graduate, and clearly you are going to be worth more to your\n",
        "company over time! In this part, we will build on your solution to Part A by adding a salary raise every six months.\n",
        "\n",
        "**User Inputs.** There is one additional user input in Part B. Remember to cast these inputs as floats and in the following order before declaring other\n",
        "variables.\n",
        "1. The starting yearly salary ( yearly_salary)\n",
        "2. The portion of salary to be saved ( portion_saved)\n",
        "3. The cost of your dream home ( cost_of_dream_home)\n",
        "4. The semi-annual salary raise ( semi_annual_raise), which is a decimal percentage (e.g. 0.1 for 10%)\n",
        "\n",
        "**Writing the Program.**\n",
        "\n",
        "Write a program to calculate how many months it will take for you to save up for a down payment. You can reuse much of the\n",
        "code from Part A. Like before, assume that your investments earn an annual rate of return r = 0.05 (or 5%) and that portion_down_payment =\n",
        "0.25 (or 25%). In this version, yearly_salary increases by semi_annual_raise at the end of every six months.\n",
        "\n",
        "**Output.**\n",
        "1. Like Part A, your program should store the number of months required to save up for your down payment using a variable called months.\n",
        "\n",
        "**Testing**\n",
        "\n",
        "*Test Case 1*\n",
        "\n",
        "Enter your starting yearly salary: 110000\n",
        "\n",
        "Enter the percent of your salary to save, as a decimal: .15\n",
        "\n",
        "Enter the cost of your dream home: 750000\n",
        "\n",
        "Enter the semi-annual raise, as a decimal: .03\n",
        "\n",
        "Number of months: 92\n",
        "\n",
        "*Test Case 2*\n",
        "\n",
        "Enter your starting yearly salary: 350000\n",
        "\n",
        "Enter the percent of your salary to save, as a decimal: .3\n",
        "\n",
        "Enter the cost of your dream home: 10000000\n",
        "\n",
        "Enter the semi-annual raise, as a decimal: .05\n",
        "\n",
        "Number of months: 131\n",
        "\n"
      ],
      "metadata": {
        "id": "2Ln41l3kfHDZ"
      }
    },
    {
      "cell_type": "code",
      "source": [
        "yearly_salary=float(input(\"Enter your yearly salary: \"))\n",
        "portion_saved=float(input(\"Enter the percent of your salary to save, as a decimal: \"))\n",
        "cost_of_dream_home=float(input(\"Enter the cost of your dream home: \"))\n",
        "semi_annual_raise=float(input(\"Enter the semi-annual raise: \"))\n",
        "portion_down_payment=0.25\n",
        "amount_saved=0\n",
        "r=0.05 #anual rate of return which every month is an additional amount_saved*(r/12)\n",
        "cost_down_payment=portion_down_payment*cost_of_dream_home\n",
        "months=0\n",
        "monthly_salary=yearly_salary/12\n",
        "while amount_saved<cost_down_payment:\n",
        "    amount_saved+=(amount_saved*(r/12))+(portion_saved*monthly_salary)\n",
        "    months+=1\n",
        "    if months%6==0:\n",
        "      yearly_salary*=(1+semi_annual_raise)\n",
        "      monthly_salary=yearly_salary/12\n",
        "\n",
        "print(\"Number of months: \", months)\n"
      ],
      "metadata": {
        "colab": {
          "base_uri": "https://localhost:8080/"
        },
        "id": "YIaPS0TLg2T6",
        "outputId": "632f1ff3-ecea-4ef4-e9eb-36025632d88b"
      },
      "execution_count": null,
      "outputs": [
        {
          "output_type": "stream",
          "name": "stdout",
          "text": [
            "Enter your yearly salary: 110000\n",
            "Enter the percent of your salary to save, as a decimal: 0.15\n",
            "Enter the cost of your dream home: 750000\n",
            "Enter the semi-annual raise: 0.03\n",
            "Number of months:  92\n"
          ]
        }
      ]
    },
    {
      "cell_type": "markdown",
      "source": [
        "**Part C: Choosing and Interest Rate**"
      ],
      "metadata": {
        "id": "miGJUuv-vDpD"
      }
    },
    {
      "cell_type": "code",
      "source": [
        "initial_deposit = float(input(\"Enter the initial deposit: \"))\n",
        "\n",
        "#########################################################################\n",
        "## Initialize other variables you need (if any) for your program below ##\n",
        "#########################################################################\n",
        "house_cost = 800000\n",
        "down_payment = house_cost * 0.25  # 25% down payment\n",
        "months = 36  # 3 years\n",
        "epsilon = 100  # Allowed difference from target\n",
        "steps = 0  # Count bisection search steps\n",
        "\n",
        "##################################################################################################\n",
        "## Determine the lowest rate of return needed to get the down payment for your dream home below ##\n",
        "##################################################################################################\n",
        "\n",
        "# If initial deposit is already enough (within epsilon)\n",
        "if initial_deposit >= down_payment - epsilon:\n",
        "    print(\"Best savings rate: 0.0\")\n",
        "    print(\"Steps in bisection search: 0\")\n",
        "else:\n",
        "    # Initialize bisection search variables\n",
        "    low = 0.0  # 0%\n",
        "    high = 1.0  # 100%\n",
        "\n",
        "    # Check if it's possible to reach goal even with 100% interest\n",
        "    max_possible = initial_deposit * (1 + high) ** (months/12)\n",
        "    if max_possible < down_payment - epsilon:\n",
        "        print(\"Best savings rate: None\")\n",
        "        print(\"Steps in bisection search: 0\")\n",
        "    else:\n",
        "        # Bisection search\n",
        "        while True:\n",
        "            steps += 1\n",
        "            r = (high + low) / 2\n",
        "            current_savings = initial_deposit * (1 + r) ** (months/12)\n",
        "\n",
        "            # Check if we're within epsilon of target\n",
        "            if abs(current_savings - down_payment) < epsilon:\n",
        "                print(f\"Best savings rate: {r}\")\n",
        "                print(f\"Steps in bisection search: {steps}\")\n",
        "                break\n",
        "\n",
        "            # Adjust search range\n",
        "            if current_savings < down_payment:\n",
        "                low = r\n",
        "            else:\n",
        "                high = r\n",
        "\n",
        "            # If range becomes too small, we found our answer\n",
        "            if abs(high - low) < 0.0000001:\n",
        "                print(f\"Best savings rate: {r}\")\n",
        "                print(f\"Steps in bisection search: {steps}\")\n",
        "                break"
      ],
      "metadata": {
        "colab": {
          "base_uri": "https://localhost:8080/"
        },
        "id": "YhDDZaRbvNmP",
        "outputId": "16da738a-1b85-4e7d-db70-dc88510b1111"
      },
      "execution_count": 1,
      "outputs": [
        {
          "output_type": "stream",
          "name": "stdout",
          "text": [
            "Enter the initial deposit: 65000\n",
            "Best savings rate: 0.45458984375\n",
            "Steps in bisection search: 11\n"
          ]
        }
      ]
    }
  ]
}